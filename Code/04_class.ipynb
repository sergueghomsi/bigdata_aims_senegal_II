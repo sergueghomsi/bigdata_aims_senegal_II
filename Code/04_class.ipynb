{
 "cells": [
  {
   "cell_type": "code",
   "execution_count": 9,
   "metadata": {
    "collapsed": true
   },
   "outputs": [],
   "source": [
    "import os\n",
    "import sys\n",
    "import numpy as np\n",
    "import pandas as pd\n",
    "import matplotlib.pylab as plt\n",
    "import IPython\n",
    "from sklearn import svm\n",
    "from sklearn import tree\n",
    "from sklearn.neighbors import KNeighborsClassifier"
   ]
  },
  {
   "cell_type": "code",
   "execution_count": 2,
   "metadata": {
    "collapsed": false
   },
   "outputs": [
    {
     "name": "stdout",
     "output_type": "stream",
     "text": [
      "The path to the training data set is correct:  True\n",
      "The path to the test data set is correct:  True\n"
     ]
    }
   ],
   "source": [
    "training_data_filepath='/media/ghomsi/SERGUEI/Big_Data/bigdata_aims_senegal/titanic/data/train.csv'\n",
    "test_data_filepath='/media/ghomsi/SERGUEI/Big_Data/bigdata_aims_senegal/titanic/data/test.csv'\n",
    "print 'The path to the training data set is correct: ', os.path.exists(training_data_filepath)\n",
    "print 'The path to the test data set is correct: ', os.path.exists(test_data_filepath)"
   ]
  },
  {
   "cell_type": "code",
   "execution_count": 3,
   "metadata": {
    "collapsed": false
   },
   "outputs": [
    {
     "name": "stdout",
     "output_type": "stream",
     "text": [
      "<class 'pandas.core.frame.DataFrame'>\n",
      "Int64Index: 891 entries, 0 to 890\n",
      "Data columns (total 12 columns):\n",
      "PassengerId    891 non-null int64\n",
      "Survived       891 non-null int64\n",
      "Pclass         891 non-null int64\n",
      "Name           891 non-null object\n",
      "Sex            891 non-null object\n",
      "Age            714 non-null float64\n",
      "SibSp          891 non-null int64\n",
      "Parch          891 non-null int64\n",
      "Ticket         891 non-null object\n",
      "Fare           891 non-null float64\n",
      "Cabin          204 non-null object\n",
      "Embarked       889 non-null object\n",
      "dtypes: float64(2), int64(5), object(5)"
     ]
    }
   ],
   "source": [
    "df_training = pd.read_csv(training_data_filepath)\n",
    "df_training.info()\n",
    "\n",
    "\n",
    "df_test = pd.read_csv(test_data_filepath)\n",
    "\n",
    "mean_fare_by_pclass = df_test[['Pclass','Fare']].groupby(['Pclass']).agg('mean')['Fare']\n",
    "fare_given_pclass=df_test['Pclass'].apply(lambda x: mean_fare_by_pclass[x])\n",
    "df_test['Fare'].fillna(fare_given_pclass,inplace=True)"
   ]
  },
  {
   "cell_type": "code",
   "execution_count": 4,
   "metadata": {
    "collapsed": true
   },
   "outputs": [],
   "source": [
    "df_training_clean = df_training.drop(['Age','Cabin','Embarked','Name','Sex','Ticket'],axis=1)\n",
    "df_test_clean = df_test.drop(['Age','Cabin','Embarked','Name','Sex','Ticket'],axis=1)\n",
    "\n",
    "target = df_training_clean.pop('Survived') \n",
    "array_training_clean=df_training_clean.values\n",
    "array_test_clean = df_test_clean.values\n",
    "array_target=target.values"
   ]
  },
  {
   "cell_type": "markdown",
   "metadata": {},
   "source": [
    "## Distance between two points"
   ]
  },
  {
   "cell_type": "code",
   "execution_count": 8,
   "metadata": {
    "collapsed": true
   },
   "outputs": [],
   "source": [
    "def distance (a, b):\n",
    "    if (len (a) != len (b)):\n",
    "        return (-1)\n",
    "    somme = 0\n",
    "    for i in range (len (a)):\n",
    "        somme += (a [i] - b [i]) * (a [i] - b [i])\n",
    "    return (np.sqrt(somme))"
   ]
  },
  {
   "cell_type": "markdown",
   "metadata": {},
   "source": [
    "## Distance between "
   ]
  }
 ],
 "metadata": {
  "kernelspec": {
   "display_name": "Python 2",
   "language": "python",
   "name": "python2"
  },
  "language_info": {
   "codemirror_mode": {
    "name": "ipython",
    "version": 2
   },
   "file_extension": ".py",
   "mimetype": "text/x-python",
   "name": "python",
   "nbconvert_exporter": "python",
   "pygments_lexer": "ipython2",
   "version": "2.7.10"
  }
 },
 "nbformat": 4,
 "nbformat_minor": 0
}
